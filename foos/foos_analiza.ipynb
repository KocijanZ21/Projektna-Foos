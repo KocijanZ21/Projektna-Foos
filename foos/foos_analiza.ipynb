{
 "cells": [
  {
   "cell_type": "code",
   "execution_count": 46,
   "metadata": {},
   "outputs": [],
   "source": [
    "# naložimo paket\n",
    "import pandas as pd\n",
    "\n",
    "# ker bomo delali z velikimi razpredelnicami, povemo, da naj se vedno izpiše le 10 vrstic\n",
    "pd.set_option('display.max_rows', 10)\n",
    "\n",
    "# izberemo interaktivni \"notebook\" stil risanja\n",
    "%matplotlib inline\n",
    "\n",
    "# naložimo razpredelnico, s katero bomo delali\n",
    "# tu raje delam z razpredelnico, ki sem jo na roke dopolnila\n",
    "FOOS = pd.read_csv('foos_dop.csv', index_col='leto')"
   ]
  },
  {
   "cell_type": "code",
   "execution_count": 47,
   "metadata": {},
   "outputs": [
    {
     "data": {
      "text/html": [
       "<div>\n",
       "<style scoped>\n",
       "    .dataframe tbody tr th:only-of-type {\n",
       "        vertical-align: middle;\n",
       "    }\n",
       "\n",
       "    .dataframe tbody tr th {\n",
       "        vertical-align: top;\n",
       "    }\n",
       "\n",
       "    .dataframe thead th {\n",
       "        text-align: right;\n",
       "    }\n",
       "</style>\n",
       "<table border=\"1\" class=\"dataframe\">\n",
       "  <thead>\n",
       "    <tr style=\"text-align: right;\">\n",
       "      <th></th>\n",
       "      <th>ime</th>\n",
       "      <th>drzava</th>\n",
       "      <th>rang</th>\n",
       "      <th>miza</th>\n",
       "    </tr>\n",
       "    <tr>\n",
       "      <th>leto</th>\n",
       "      <th></th>\n",
       "      <th></th>\n",
       "      <th></th>\n",
       "      <th></th>\n",
       "    </tr>\n",
       "  </thead>\n",
       "  <tbody>\n",
       "    <tr>\n",
       "      <th>2004</th>\n",
       "      <td>WCS Roberto Sport 2004</td>\n",
       "      <td>Italy</td>\n",
       "      <td>WS</td>\n",
       "      <td>Roberto Sport</td>\n",
       "    </tr>\n",
       "    <tr>\n",
       "      <th>2004</th>\n",
       "      <td>WCS Bonzini 2004</td>\n",
       "      <td>France</td>\n",
       "      <td>WS</td>\n",
       "      <td>Bonzini</td>\n",
       "    </tr>\n",
       "    <tr>\n",
       "      <th>2004</th>\n",
       "      <td>WCS Eurosoccer 2004</td>\n",
       "      <td>Belgium</td>\n",
       "      <td>WS</td>\n",
       "      <td>Euro Soccer</td>\n",
       "    </tr>\n",
       "    <tr>\n",
       "      <th>2004</th>\n",
       "      <td>WCS Tornado 2004</td>\n",
       "      <td>United States</td>\n",
       "      <td>WS</td>\n",
       "      <td>Tornado</td>\n",
       "    </tr>\n",
       "    <tr>\n",
       "      <th>2004</th>\n",
       "      <td>World Championships 2005</td>\n",
       "      <td>Italy</td>\n",
       "      <td>World Cup</td>\n",
       "      <td>Multitable</td>\n",
       "    </tr>\n",
       "    <tr>\n",
       "      <th>...</th>\n",
       "      <td>...</td>\n",
       "      <td>...</td>\n",
       "      <td>...</td>\n",
       "      <td>...</td>\n",
       "    </tr>\n",
       "    <tr>\n",
       "      <th>2023</th>\n",
       "      <td>Open National Montreuil sur Mer - ITSF Master ...</td>\n",
       "      <td>France</td>\n",
       "      <td>Masters</td>\n",
       "      <td>Bonzini</td>\n",
       "    </tr>\n",
       "    <tr>\n",
       "      <th>2023</th>\n",
       "      <td>European Champions League 2023</td>\n",
       "      <td>Italy</td>\n",
       "      <td>ECL</td>\n",
       "      <td>Multitable</td>\n",
       "    </tr>\n",
       "    <tr>\n",
       "      <th>2023</th>\n",
       "      <td>2. ITSF YOUTH MASTERS - ITSF Master Tour 2023</td>\n",
       "      <td>Germany</td>\n",
       "      <td>Masters</td>\n",
       "      <td>Leonhart</td>\n",
       "    </tr>\n",
       "    <tr>\n",
       "      <th>2023</th>\n",
       "      <td>NIKI - ADAMS Masters Series - ITSF Master Tour...</td>\n",
       "      <td>Bulgaria</td>\n",
       "      <td>Masters</td>\n",
       "      <td>Leonhart</td>\n",
       "    </tr>\n",
       "    <tr>\n",
       "      <th>2023</th>\n",
       "      <td>Campeonato de España 2023 - ITSF Master Tour 2023</td>\n",
       "      <td>Spain</td>\n",
       "      <td>Masters</td>\n",
       "      <td>Leonhart</td>\n",
       "    </tr>\n",
       "  </tbody>\n",
       "</table>\n",
       "<p>1226 rows × 4 columns</p>\n",
       "</div>"
      ],
      "text/plain": [
       "                                                    ime         drzava  \\\n",
       "leto                                                                     \n",
       "2004                             WCS Roberto Sport 2004          Italy   \n",
       "2004                                   WCS Bonzini 2004         France   \n",
       "2004                                WCS Eurosoccer 2004        Belgium   \n",
       "2004                                   WCS Tornado 2004  United States   \n",
       "2004                           World Championships 2005          Italy   \n",
       "...                                                 ...            ...   \n",
       "2023  Open National Montreuil sur Mer - ITSF Master ...         France   \n",
       "2023                     European Champions League 2023          Italy   \n",
       "2023      2. ITSF YOUTH MASTERS - ITSF Master Tour 2023        Germany   \n",
       "2023  NIKI - ADAMS Masters Series - ITSF Master Tour...       Bulgaria   \n",
       "2023  Campeonato de España 2023 - ITSF Master Tour 2023          Spain   \n",
       "\n",
       "           rang           miza  \n",
       "leto                            \n",
       "2004         WS  Roberto Sport  \n",
       "2004         WS        Bonzini  \n",
       "2004         WS    Euro Soccer  \n",
       "2004         WS        Tornado  \n",
       "2004  World Cup     Multitable  \n",
       "...         ...            ...  \n",
       "2023    Masters        Bonzini  \n",
       "2023        ECL     Multitable  \n",
       "2023    Masters       Leonhart  \n",
       "2023    Masters       Leonhart  \n",
       "2023    Masters       Leonhart  \n",
       "\n",
       "[1226 rows x 4 columns]"
      ]
     },
     "execution_count": 47,
     "metadata": {},
     "output_type": "execute_result"
    }
   ],
   "source": [
    "FOOS"
   ]
  },
  {
   "cell_type": "markdown",
   "metadata": {},
   "source": [
    "Prikaz, koliko turnirjev se je zgodilo vsako leto. Od začetka bolj malo, z leti optem število večinoma narašča. V letih od 2019 do 2021 lahko opazimo padec števla turnirjev zaradi pandemije. Od takrat pa število ponovno narašča in se vrača v prejšnje stanje."
   ]
  },
  {
   "cell_type": "code",
   "execution_count": 48,
   "metadata": {},
   "outputs": [
    {
     "data": {
      "text/plain": [
       "<Axes: xlabel='leto'>"
      ]
     },
     "execution_count": 48,
     "metadata": {},
     "output_type": "execute_result"
    },
    {
     "data": {
      "image/png": "[encoded data removed]",
      "text/plain": [
       "<Figure size 640x480 with 1 Axes>"
      ]
     },
     "metadata": {},
     "output_type": "display_data"
    }
   ],
   "source": [
    "letno = FOOS.groupby('leto').size()\n",
    "letno\n",
    "letno.plot.bar()"
   ]
  },
  {
   "cell_type": "markdown",
   "metadata": {},
   "source": [
    "Prikaz števila turnirjev na posamezni mizi. Največ turnirjev se izvaja na petih uradnih turnirskih mizah (Garlando, Leonhart, Tornado, Bonzini in Roberto Sport) ter multitsable turnirji, ki se izvajajo na vseh teh hkrati."
   ]
  },
  {
   "cell_type": "code",
   "execution_count": 49,
   "metadata": {},
   "outputs": [
    {
     "data": {
      "text/plain": [
       "<Axes: xlabel='miza'>"
      ]
     },
     "execution_count": 49,
     "metadata": {},
     "output_type": "execute_result"
    },
    {
     "data": {
      "image/png": "[encoded data removed]",
      "text/plain": [
       "<Figure size 640x480 with 1 Axes>"
      ]
     },
     "metadata": {},
     "output_type": "display_data"
    }
   ],
   "source": [
    "po_mizah = FOOS.groupby('miza').size().sort_values(ascending=False)\n",
    "po_mizah\n",
    "po_mizah.plot.bar()"
   ]
  },
  {
   "cell_type": "code",
   "execution_count": 50,
   "metadata": {},
   "outputs": [
    {
     "data": {
      "text/plain": [
       "rang\n",
       "ECL               13\n",
       "International     65\n",
       "Masters          413\n",
       "Pro Tour         641\n",
       "WS                71\n",
       "World Cup         23\n",
       "dtype: int64"
      ]
     },
     "execution_count": 50,
     "metadata": {},
     "output_type": "execute_result"
    }
   ],
   "source": [
    "rangirano = FOOS.groupby('rang').size()\n",
    "rangirano"
   ]
  },
  {
   "cell_type": "code",
   "execution_count": 57,
   "metadata": {},
   "outputs": [
    {
     "data": {
      "text/plain": [
       "drzava\n",
       "United States     150\n",
       "Germany           102\n",
       "France            101\n",
       "Austria            77\n",
       "Czech Republic     67\n",
       "                 ... \n",
       "Nepal               1\n",
       "Saudi Arabia        1\n",
       "Rwanda              1\n",
       "Colombia            1\n",
       "Armenia             1\n",
       "Length: 57, dtype: int64"
      ]
     },
     "execution_count": 57,
     "metadata": {},
     "output_type": "execute_result"
    }
   ],
   "source": [
    "po_drzavah= FOOS.groupby('drzava').size().sort_values(ascending=False)\n",
    "po_drzavah"
   ]
  }
 ],
 "metadata": {
  "kernelspec": {
   "display_name": "Python 3.10.12 64-bit",
   "language": "python",
   "name": "python3"
  },
  "language_info": {
   "codemirror_mode": {
    "name": "ipython",
    "version": 3
   },
   "file_extension": ".py",
   "mimetype": "text/x-python",
   "name": "python",
   "nbconvert_exporter": "python",
   "pygments_lexer": "ipython3",
   "version": "3.10.12"
  },
  "orig_nbformat": 4,
  "vscode": {
   "interpreter": {
    "hash": "916dbcbb3f70747c44a77c7bcd40155683ae19c65e1c03b4aa3499c5328201f1"
   }
  }
 },
 "nbformat": 4,
 "nbformat_minor": 2
}
